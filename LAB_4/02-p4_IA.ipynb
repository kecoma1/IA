{
 "cells": [
  {
   "cell_type": "markdown",
   "metadata": {
    "collapsed": true
   },
   "source": [
    "# Práctica 4 de IA"
   ]
  },
  {
   "cell_type": "markdown",
   "metadata": {
    "collapsed": true
   },
   "source": [
    "# 2. Construcción de un clasificador en una base de datos real (1.5 puntos)"
   ]
  },
  {
   "cell_type": "code",
   "execution_count": 1,
   "metadata": {},
   "outputs": [],
   "source": [
    "import pandas as pd\n",
    "import matplotlib.pyplot as plt\n",
    "from sklearn.tree import DecisionTreeClassifier\n",
    "from sklearn.neighbors import KNeighborsClassifier\n",
    "from sklearn.model_selection import cross_val_score\n",
    "from sklearn.linear_model import LogisticRegression\n",
    "from sklearn.neural_network import MLPClassifier\n",
    "from datetime import datetime\n",
    "\n",
    "%matplotlib inline"
   ]
  },
  {
   "cell_type": "code",
   "execution_count": 2,
   "metadata": {},
   "outputs": [
    {
     "name": "stdout",
     "output_type": "stream",
     "text": [
      "(768, 9)\n"
     ]
    },
    {
     "data": {
      "text/html": [
       "<div>\n",
       "<style scoped>\n",
       "    .dataframe tbody tr th:only-of-type {\n",
       "        vertical-align: middle;\n",
       "    }\n",
       "\n",
       "    .dataframe tbody tr th {\n",
       "        vertical-align: top;\n",
       "    }\n",
       "\n",
       "    .dataframe thead th {\n",
       "        text-align: right;\n",
       "    }\n",
       "</style>\n",
       "<table border=\"1\" class=\"dataframe\">\n",
       "  <thead>\n",
       "    <tr style=\"text-align: right;\">\n",
       "      <th></th>\n",
       "      <th>numPregnant</th>\n",
       "      <th>glucose</th>\n",
       "      <th>bloodPress</th>\n",
       "      <th>skinThick</th>\n",
       "      <th>insulin</th>\n",
       "      <th>massIndex</th>\n",
       "      <th>pedigree</th>\n",
       "      <th>age</th>\n",
       "      <th>class</th>\n",
       "    </tr>\n",
       "  </thead>\n",
       "  <tbody>\n",
       "    <tr>\n",
       "      <th>0</th>\n",
       "      <td>6</td>\n",
       "      <td>148</td>\n",
       "      <td>72</td>\n",
       "      <td>35</td>\n",
       "      <td>0</td>\n",
       "      <td>33.6</td>\n",
       "      <td>0.627</td>\n",
       "      <td>50</td>\n",
       "      <td>yes</td>\n",
       "    </tr>\n",
       "    <tr>\n",
       "      <th>1</th>\n",
       "      <td>1</td>\n",
       "      <td>85</td>\n",
       "      <td>66</td>\n",
       "      <td>29</td>\n",
       "      <td>0</td>\n",
       "      <td>26.6</td>\n",
       "      <td>0.351</td>\n",
       "      <td>31</td>\n",
       "      <td>no</td>\n",
       "    </tr>\n",
       "    <tr>\n",
       "      <th>2</th>\n",
       "      <td>8</td>\n",
       "      <td>183</td>\n",
       "      <td>64</td>\n",
       "      <td>0</td>\n",
       "      <td>0</td>\n",
       "      <td>23.3</td>\n",
       "      <td>0.672</td>\n",
       "      <td>32</td>\n",
       "      <td>yes</td>\n",
       "    </tr>\n",
       "    <tr>\n",
       "      <th>3</th>\n",
       "      <td>1</td>\n",
       "      <td>89</td>\n",
       "      <td>66</td>\n",
       "      <td>23</td>\n",
       "      <td>94</td>\n",
       "      <td>28.1</td>\n",
       "      <td>0.167</td>\n",
       "      <td>21</td>\n",
       "      <td>no</td>\n",
       "    </tr>\n",
       "    <tr>\n",
       "      <th>4</th>\n",
       "      <td>0</td>\n",
       "      <td>137</td>\n",
       "      <td>40</td>\n",
       "      <td>35</td>\n",
       "      <td>168</td>\n",
       "      <td>43.1</td>\n",
       "      <td>2.288</td>\n",
       "      <td>33</td>\n",
       "      <td>yes</td>\n",
       "    </tr>\n",
       "  </tbody>\n",
       "</table>\n",
       "</div>"
      ],
      "text/plain": [
       "   numPregnant  glucose  bloodPress  skinThick  insulin  massIndex  pedigree  \\\n",
       "0            6      148          72         35        0       33.6     0.627   \n",
       "1            1       85          66         29        0       26.6     0.351   \n",
       "2            8      183          64          0        0       23.3     0.672   \n",
       "3            1       89          66         23       94       28.1     0.167   \n",
       "4            0      137          40         35      168       43.1     2.288   \n",
       "\n",
       "   age class  \n",
       "0   50   yes  \n",
       "1   31    no  \n",
       "2   32   yes  \n",
       "3   21    no  \n",
       "4   33   yes  "
      ]
     },
     "execution_count": 2,
     "metadata": {},
     "output_type": "execute_result"
    }
   ],
   "source": [
    "df = pd.read_csv(\"pima.csv\", header=0, sep=',')\n",
    "print(df.shape)\n",
    "df.head(5)"
   ]
  },
  {
   "cell_type": "markdown",
   "metadata": {},
   "source": [
    "**El objetivo es predecir si una paciente tiene o no diabetes a partir de los valores de otras variables. La variable target es \"class\".**"
   ]
  },
  {
   "cell_type": "markdown",
   "metadata": {},
   "source": [
    "* **Pregnancies:** Number of times pregnant\n",
    "* **Glucose:** Plasma glucose concentration a 2 hours in an oral glucose tolerance test\n",
    "* **BloodPressure:** Diastolic blood pressure (mm Hg)\n",
    "* **SkinThickness:** Triceps skin fold thickness (mm)\n",
    "* **Insulin:** 2-Hour serum insulin (mu U/ml)\n",
    "* **BMI:** Body mass index (weight in kg/(height in m)^2)\n",
    "* **DiabetesPedigreeFunction:** Diabetes pedigree function\n",
    "* **Age:** Age (years)\n",
    "* **Class:** Class variable (\"yes\" / \"no\")"
   ]
  },
  {
   "cell_type": "code",
   "execution_count": 3,
   "metadata": {},
   "outputs": [
    {
     "name": "stdout",
     "output_type": "stream",
     "text": [
      "['numPregnant', 'glucose', 'bloodPress', 'skinThick', 'insulin', 'massIndex', 'pedigree', 'age']\n"
     ]
    }
   ],
   "source": [
    "nombres_atrs = list(df.columns)\n",
    "nombres_atrs.remove('class')\n",
    "print(nombres_atrs)\n",
    "X = df[nombres_atrs].values\n",
    "y = df['class'].values"
   ]
  },
  {
   "cell_type": "markdown",
   "metadata": {},
   "source": [
    "**Estadísticos básicos de cada atributo:**"
   ]
  },
  {
   "cell_type": "code",
   "execution_count": 4,
   "metadata": {},
   "outputs": [
    {
     "data": {
      "text/html": [
       "<div>\n",
       "<style scoped>\n",
       "    .dataframe tbody tr th:only-of-type {\n",
       "        vertical-align: middle;\n",
       "    }\n",
       "\n",
       "    .dataframe tbody tr th {\n",
       "        vertical-align: top;\n",
       "    }\n",
       "\n",
       "    .dataframe thead th {\n",
       "        text-align: right;\n",
       "    }\n",
       "</style>\n",
       "<table border=\"1\" class=\"dataframe\">\n",
       "  <thead>\n",
       "    <tr style=\"text-align: right;\">\n",
       "      <th></th>\n",
       "      <th>numPregnant</th>\n",
       "      <th>glucose</th>\n",
       "      <th>bloodPress</th>\n",
       "      <th>skinThick</th>\n",
       "      <th>insulin</th>\n",
       "      <th>massIndex</th>\n",
       "      <th>pedigree</th>\n",
       "      <th>age</th>\n",
       "    </tr>\n",
       "  </thead>\n",
       "  <tbody>\n",
       "    <tr>\n",
       "      <th>count</th>\n",
       "      <td>768.000000</td>\n",
       "      <td>768.000000</td>\n",
       "      <td>768.000000</td>\n",
       "      <td>768.000000</td>\n",
       "      <td>768.000000</td>\n",
       "      <td>768.000000</td>\n",
       "      <td>768.000000</td>\n",
       "      <td>768.000000</td>\n",
       "    </tr>\n",
       "    <tr>\n",
       "      <th>mean</th>\n",
       "      <td>3.845052</td>\n",
       "      <td>120.894531</td>\n",
       "      <td>69.105469</td>\n",
       "      <td>20.536458</td>\n",
       "      <td>79.799479</td>\n",
       "      <td>31.992578</td>\n",
       "      <td>0.471876</td>\n",
       "      <td>33.240885</td>\n",
       "    </tr>\n",
       "    <tr>\n",
       "      <th>std</th>\n",
       "      <td>3.369578</td>\n",
       "      <td>31.972618</td>\n",
       "      <td>19.355807</td>\n",
       "      <td>15.952218</td>\n",
       "      <td>115.244002</td>\n",
       "      <td>7.884160</td>\n",
       "      <td>0.331329</td>\n",
       "      <td>11.760232</td>\n",
       "    </tr>\n",
       "    <tr>\n",
       "      <th>min</th>\n",
       "      <td>0.000000</td>\n",
       "      <td>0.000000</td>\n",
       "      <td>0.000000</td>\n",
       "      <td>0.000000</td>\n",
       "      <td>0.000000</td>\n",
       "      <td>0.000000</td>\n",
       "      <td>0.078000</td>\n",
       "      <td>21.000000</td>\n",
       "    </tr>\n",
       "    <tr>\n",
       "      <th>25%</th>\n",
       "      <td>1.000000</td>\n",
       "      <td>99.000000</td>\n",
       "      <td>62.000000</td>\n",
       "      <td>0.000000</td>\n",
       "      <td>0.000000</td>\n",
       "      <td>27.300000</td>\n",
       "      <td>0.243750</td>\n",
       "      <td>24.000000</td>\n",
       "    </tr>\n",
       "    <tr>\n",
       "      <th>50%</th>\n",
       "      <td>3.000000</td>\n",
       "      <td>117.000000</td>\n",
       "      <td>72.000000</td>\n",
       "      <td>23.000000</td>\n",
       "      <td>30.500000</td>\n",
       "      <td>32.000000</td>\n",
       "      <td>0.372500</td>\n",
       "      <td>29.000000</td>\n",
       "    </tr>\n",
       "    <tr>\n",
       "      <th>75%</th>\n",
       "      <td>6.000000</td>\n",
       "      <td>140.250000</td>\n",
       "      <td>80.000000</td>\n",
       "      <td>32.000000</td>\n",
       "      <td>127.250000</td>\n",
       "      <td>36.600000</td>\n",
       "      <td>0.626250</td>\n",
       "      <td>41.000000</td>\n",
       "    </tr>\n",
       "    <tr>\n",
       "      <th>max</th>\n",
       "      <td>17.000000</td>\n",
       "      <td>199.000000</td>\n",
       "      <td>122.000000</td>\n",
       "      <td>99.000000</td>\n",
       "      <td>846.000000</td>\n",
       "      <td>67.100000</td>\n",
       "      <td>2.420000</td>\n",
       "      <td>81.000000</td>\n",
       "    </tr>\n",
       "  </tbody>\n",
       "</table>\n",
       "</div>"
      ],
      "text/plain": [
       "       numPregnant     glucose  bloodPress   skinThick     insulin  \\\n",
       "count   768.000000  768.000000  768.000000  768.000000  768.000000   \n",
       "mean      3.845052  120.894531   69.105469   20.536458   79.799479   \n",
       "std       3.369578   31.972618   19.355807   15.952218  115.244002   \n",
       "min       0.000000    0.000000    0.000000    0.000000    0.000000   \n",
       "25%       1.000000   99.000000   62.000000    0.000000    0.000000   \n",
       "50%       3.000000  117.000000   72.000000   23.000000   30.500000   \n",
       "75%       6.000000  140.250000   80.000000   32.000000  127.250000   \n",
       "max      17.000000  199.000000  122.000000   99.000000  846.000000   \n",
       "\n",
       "        massIndex    pedigree         age  \n",
       "count  768.000000  768.000000  768.000000  \n",
       "mean    31.992578    0.471876   33.240885  \n",
       "std      7.884160    0.331329   11.760232  \n",
       "min      0.000000    0.078000   21.000000  \n",
       "25%     27.300000    0.243750   24.000000  \n",
       "50%     32.000000    0.372500   29.000000  \n",
       "75%     36.600000    0.626250   41.000000  \n",
       "max     67.100000    2.420000   81.000000  "
      ]
     },
     "execution_count": 4,
     "metadata": {},
     "output_type": "execute_result"
    }
   ],
   "source": [
    "df.describe()"
   ]
  },
  {
   "cell_type": "markdown",
   "metadata": {},
   "source": [
    "**Histogramas suavizados de cada atributo en cada clase. El color indica la clase (\"yes\"/\"no\"):**"
   ]
  },
  {
   "cell_type": "code",
   "execution_count": 5,
   "metadata": {},
   "outputs": [
    {
     "data": {
      "image/png": "[encoded data removed]",
      "text/plain": [
       "<Figure size 1080x504 with 8 Axes>"
      ]
     },
     "metadata": {
      "needs_background": "light"
     },
     "output_type": "display_data"
    }
   ],
   "source": [
    "plt.figure(figsize=(15,7))\n",
    "for i,n in enumerate(nombres_atrs):\n",
    "    plt.subplot(2,4,i+1)\n",
    "    aux = 'Density' if i%4==0 else ''\n",
    "    df.groupby(\"class\")[n].plot(kind='kde', title='Hist. de '+n)\n",
    "    plt.ylabel(aux);"
   ]
  },
  {
   "cell_type": "markdown",
   "metadata": {},
   "source": [
    "## Entrenamiento de un modelo y chequeo de su calidad usando 5-fold cross validation"
   ]
  },
  {
   "cell_type": "markdown",
   "metadata": {},
   "source": [
    "La siguiente celda entrena un modelo y lo evalúa en varias particiones training-test diferentes de los datos. El resultado es un score medio junto a su desviación estándar. El tipo de modelo (Naïve Bayes / árbol de decisión / knn/ regresión logística / red neuronal) y parámetros empleados deberán ser seleccionados para que dicho resultado sea el mejor posible."
   ]
  },
  {
   "cell_type": "markdown",
   "metadata": {},
   "source": [
    "##### Neural network test with 1 layer - 10 to 30 seconds\n",
    "The number of neurons go from 5 to 50 in steps of 5"
   ]
  },
  {
   "cell_type": "code",
   "execution_count": 6,
   "metadata": {},
   "outputs": [
    {
     "name": "stdout",
     "output_type": "stream",
     "text": [
      "Current Time = 10:56:32\n",
      "Max score of the model: 0.69 +/- 0.02, hidden layer neurons 15\n",
      "Current Time = 10:56:50\n"
     ]
    }
   ],
   "source": [
    "max_score = {'mean': 0.0, 'std': 0.0, 'layer_1': 0}\n",
    "\n",
    "now = datetime.now()\n",
    "current_time = now.strftime(\"%H:%M:%S\")\n",
    "print(\"Current Time =\", current_time)\n",
    "\n",
    "for i in range(5, 50, 5):\n",
    "    clf_nn = MLPClassifier(hidden_layer_sizes=(i,), max_iter=1000, alpha=0)\n",
    "    scores = cross_val_score(clf_nn, X, y, cv=5)\n",
    "    if max_score['mean'] < scores.mean():\n",
    "        max_score['mean'] = scores.mean()\n",
    "        max_score['std'] = scores.std()\n",
    "        max_score['layer_1'] = i\n",
    "print('Max score of the model: {:.2f} +/- {:.2f}, hidden layer neurons {:d}'.format(max_score['mean'], \n",
    "                                                                                    max_score['std'], \n",
    "                                                                                    max_score['layer_1']))\n",
    "\n",
    "now = datetime.now()\n",
    "current_time = now.strftime(\"%H:%M:%S\")\n",
    "print(\"Current Time =\", current_time)"
   ]
  },
  {
   "cell_type": "markdown",
   "metadata": {},
   "source": [
    "##### Neural network test with 2 layers - 2 to 3 minutes\n",
    "The number of neurons go from 5 to 50 in steps of 5 in each layer"
   ]
  },
  {
   "cell_type": "code",
   "execution_count": 7,
   "metadata": {},
   "outputs": [
    {
     "name": "stdout",
     "output_type": "stream",
     "text": [
      "Starting Time = 10:56:50\n",
      "Max score of the model: 0.71 +/- 0.02, hidden layer neurons (30, 30)\n",
      "Ending Time = 10:59:24\n"
     ]
    }
   ],
   "source": [
    "max_score = {'mean': 0.0, 'std': 0.0, 'layer_1': 0, 'layer_2': 0}\n",
    "\n",
    "now = datetime.now()\n",
    "current_time = now.strftime(\"%H:%M:%S\")\n",
    "print(\"Starting Time =\", current_time)\n",
    "\n",
    "for i in range(5, 50, 5):\n",
    "    for n in range(5, 50, 5):\n",
    "        clf_nn = MLPClassifier(hidden_layer_sizes=(i,n,), max_iter=1000, alpha=0)\n",
    "        scores = cross_val_score(clf_nn, X, y, cv=5)\n",
    "        if max_score['mean'] < scores.mean():\n",
    "            max_score['mean'] = scores.mean()\n",
    "            max_score['std'] = scores.std()\n",
    "            max_score['layer_1'] = i\n",
    "            max_score['layer_2'] = n\n",
    "print('Max score of the model: {:.2f} +/- {:.2f}, hidden layer neurons ({:d}, {:d})'.format(max_score['mean'], \n",
    "                                                                                            max_score['std'], \n",
    "                                                                                            max_score['layer_1'], \n",
    "                                                                                            max_score['layer_2']))\n",
    "\n",
    "now = datetime.now()\n",
    "current_time = now.strftime(\"%H:%M:%S\")\n",
    "print(\"Ending Time =\", current_time)"
   ]
  },
  {
   "cell_type": "markdown",
   "metadata": {},
   "source": [
    "##### Neural network test with 3 layers - 25 to 30 minutes\n",
    "The number of neurons go from 5 to 50 in steps of 5 in each layer"
   ]
  },
  {
   "cell_type": "code",
   "execution_count": null,
   "metadata": {},
   "outputs": [
    {
     "name": "stdout",
     "output_type": "stream",
     "text": [
      "Current Time = 10:59:24\n"
     ]
    }
   ],
   "source": [
    "now = datetime.now()\n",
    "current_time = now.strftime(\"%H:%M:%S\")\n",
    "print(\"Current Time =\", current_time)\n",
    "\n",
    "max_score = {'mean': 0.0, 'std': 0.0, 'layer_1': 0, 'layer_2': 0, 'layer_3': 0}\n",
    "for i in range(5, 50, 5):\n",
    "    for n in range(5, 50, 5):\n",
    "        for k in range(5, 50, 5):\n",
    "            clf_nn = MLPClassifier(hidden_layer_sizes=(i,n,k), max_iter=1000, alpha=0)\n",
    "            scores = cross_val_score(clf_nn, X, y, cv=5)\n",
    "            if max_score['mean'] < scores.mean():\n",
    "                max_score['mean'] = scores.mean()\n",
    "                max_score['std'] = scores.std()\n",
    "                max_score['layer_1'] = i\n",
    "                max_score['layer_2'] = n\n",
    "                max_score['layer_3'] = k\n",
    "print('Max score of the model: {:.2f} +/- {:.2f}, hidden layer neurons ({:d}, {:d}, {:d})'.format(max_score['mean'], \n",
    "                                                                                            max_score['std'], \n",
    "                                                                                            max_score['layer_1'], \n",
    "                                                                                            max_score['layer_2'], \n",
    "                                                                                            max_score['layer_3']))\n",
    "\n",
    "now = datetime.now()\n",
    "current_time = now.strftime(\"%H:%M:%S\")\n",
    "print(\"Current Time =\", current_time)"
   ]
  },
  {
   "cell_type": "markdown",
   "metadata": {},
   "source": [
    "##### Decision tree test from depth 2 to 99"
   ]
  },
  {
   "cell_type": "code",
   "execution_count": null,
   "metadata": {},
   "outputs": [],
   "source": [
    "now = datetime.now()\n",
    "current_time = now.strftime(\"%H:%M:%S\")\n",
    "print(\"Starting Time =\", current_time)\n",
    "\n",
    "max_score = {'mean': 0.0, 'std': 0.0, 'max_depth': 0}\n",
    "for i in range(2, 99):\n",
    "    clf_dt = DecisionTreeClassifier(criterion='entropy', max_depth=i)\n",
    "    scores = cross_val_score(clf_dt, X, y, cv=5)\n",
    "    if max_score['mean'] < scores.mean():\n",
    "                max_score['mean'] = scores.mean()\n",
    "                max_score['std'] = scores.std()\n",
    "                max_score['max_depth'] = i\n",
    "print(\"Max score of the model: {:.2f} +/- {:.2f}, max depth applied {:d}\".format(max_score['mean'],\n",
    "                                                                                 max_score['std'],\n",
    "                                                                                 max_score['max_depth']))\n",
    "\n",
    "now = datetime.now()\n",
    "current_time = now.strftime(\"%H:%M:%S\")\n",
    "print(\"Ending Time =\", current_time)"
   ]
  },
  {
   "cell_type": "markdown",
   "metadata": {},
   "source": [
    "##### KNN test from 3 neighbors to 99 in steps of 2"
   ]
  },
  {
   "cell_type": "code",
   "execution_count": null,
   "metadata": {
    "scrolled": false
   },
   "outputs": [],
   "source": [
    "now = datetime.now()\n",
    "current_time = now.strftime(\"%H:%M:%S\")\n",
    "print(\"Starting Time =\", current_time)\n",
    "\n",
    "max_score = {'mean': 0.0, 'std': 0.0, 'neighbors': 0}\n",
    "for i in range(3, 100, 2):\n",
    "    clf_knn = KNeighborsClassifier(n_neighbors=i)\n",
    "    scores = cross_val_score(clf_knn, X, y, cv=5)\n",
    "    if max_score['mean'] < scores.mean():\n",
    "                max_score['mean'] = scores.mean()\n",
    "                max_score['std'] = scores.std()\n",
    "                max_score['neighbors'] = i\n",
    "print(\"Score global del modelo: {:.2f} +/- {:.2f}, neighbors set {:d}\".format(max_score['mean'],\n",
    "                                                                                 max_score['std'],\n",
    "                                                                                 max_score['neighbors']))\n",
    "\n",
    "now = datetime.now()\n",
    "current_time = now.strftime(\"%H:%M:%S\")\n",
    "print(\"Ending Time =\", current_time)"
   ]
  },
  {
   "cell_type": "markdown",
   "metadata": {
    "collapsed": true
   },
   "source": [
    "## Responde aquí a las siguientes preguntas:"
   ]
  },
  {
   "cell_type": "markdown",
   "metadata": {},
   "source": [
    "* ¿Cuál es el mejor score que consigues con un k-nn y con qué k (valor de n_neighbours)?\n",
    "* ¿Cuál es el mejor score que consigues con un árbol de decisión y con qué profundidad máxima (valor de max_depth)?\n",
    "* ¿Cuál es el mejor score que consigues con una red neuronal y con qué configuración (valor de hidden_layer_sizes)?\n",
    "\n",
    "Nota: para responder a estas preguntas sólo hay que cambiar el tipo de modelo y sus parámetros en la celda anterior."
   ]
  },
  {
   "cell_type": "markdown",
   "metadata": {},
   "source": [
    "## Question 1 - KNN.\n",
    "The best score that we are able to get with knn is __0.76 +/- 0.04__ with __13 neighbors__.\n",
    "\n",
    "## Question 2 - Decision Tree.\n",
    "The best score that we are able to get with a decision tree is __0.74 +/- 0.02__ with a __depth of 3__.\n",
    "\n",
    "## Question 3 - Neural network. \n",
    "Neural networks can be configured in a lot of different ways so we decided to check the score of every configuration having 3 hidden layers, a maximum of 100 neurons per layer and 1000 epochs in each configuration:\n",
    "* 1 layer. __55 neurons__ gave us a score of __0.72 +/- 0.04__.\n",
    "* 2 layer. __25, 20 neurons__ gave us a similar score of __0.71 +/- 0.03__.\n",
    "* 3 layer. __20, 20, 20 neurons__ gave us a similar score of __0.72 +/- 0.03__.\n",
    "\n",
    "One important thing to say is that if we run the code several times we can see that the result of the neural network is not always the same, although the settings are not changed. \n",
    "\n",
    "This is because the neural network weights are set to a random value at the begining of the training, after some epochs the values change. The fact that the vales are random makes that the result is not always going to be the same."
   ]
  },
  {
   "cell_type": "code",
   "execution_count": null,
   "metadata": {},
   "outputs": [],
   "source": []
  }
 ],
 "metadata": {
  "kernelspec": {
   "display_name": "Python 3",
   "language": "python",
   "name": "python3"
  },
  "language_info": {
   "codemirror_mode": {
    "name": "ipython",
    "version": 3
   },
   "file_extension": ".py",
   "mimetype": "text/x-python",
   "name": "python",
   "nbconvert_exporter": "python",
   "pygments_lexer": "ipython3",
   "version": "3.8.5"
  }
 },
 "nbformat": 4,
 "nbformat_minor": 1
}
