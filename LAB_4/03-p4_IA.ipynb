{
 "cells": [
  {
   "cell_type": "markdown",
   "metadata": {
    "colab_type": "text",
    "id": "5QZv0KWtnzyA"
   },
   "source": [
    "## 3. Clasificación de caracteres manuscritos (OCR) (2 puntos)"
   ]
  },
  {
   "cell_type": "markdown",
   "metadata": {},
   "source": [
    "En este apartado entrenaremos una red neuronal para que aprenda a clasificar automáticamente imágenes de dígitos escritos a mano. Este es un ejemplo de OCR (Optical Character Recognition) que utilizan empresas como Correos para interpretar automáticamente los datos de remitente escritos a mano en el sobre, previamente capturados con una cámara."
   ]
  },
  {
   "cell_type": "code",
   "execution_count": null,
   "metadata": {
    "colab": {},
    "colab_type": "code",
    "id": "3WoEHYtK5lZO"
   },
   "outputs": [],
   "source": [
    "import matplotlib.pyplot as plt\n",
    "from sklearn.datasets import fetch_openml\n",
    "import numpy as np\n",
    "\n",
    "%matplotlib inline"
   ]
  },
  {
   "cell_type": "markdown",
   "metadata": {
    "colab_type": "text",
    "id": "QwqVNXHb5lZa"
   },
   "source": [
    "## 3.1. Carga de datos"
   ]
  },
  {
   "cell_type": "markdown",
   "metadata": {},
   "source": [
    "Usaremos la base de datos **MNIST**, muy usada en Machine Learning para poner a prueba algoritmos. A continuación la cargamos:"
   ]
  },
  {
   "cell_type": "code",
   "execution_count": null,
   "metadata": {
    "colab": {},
    "colab_type": "code",
    "id": "MgAKDP665lZd"
   },
   "outputs": [],
   "source": [
    "X, y = fetch_openml('mnist_784', version=1, return_X_y=True)\n",
    "X = X / 255. # reescalado de datos para que los datos de píxeles vayan de 0 a 1\n",
    "y = y.astype(int) # las etiquetas leídas son de tipo str: las convertimos a int"
   ]
  },
  {
   "cell_type": "code",
   "execution_count": null,
   "metadata": {
    "colab": {
     "base_uri": "https://localhost:8080/",
     "height": 105
    },
    "colab_type": "code",
    "executionInfo": {
     "elapsed": 20348,
     "status": "ok",
     "timestamp": 1573029625657,
     "user": {
      "displayName": "Manuel Sánchez-Montañés",
      "photoUrl": "",
      "userId": "17112108692206476645"
     },
     "user_tz": -60
    },
    "id": "1esl-fKD5lZp",
    "outputId": "e0255334-ee29-44b0-e66e-95b05723d387"
   },
   "outputs": [],
   "source": [
    "print(type(X))\n",
    "print(X.shape)\n",
    "print(type(y))\n",
    "print(y.shape)\n",
    "\n",
    "print(y[:10])"
   ]
  },
  {
   "cell_type": "code",
   "execution_count": null,
   "metadata": {
    "colab": {
     "base_uri": "https://localhost:8080/",
     "height": 35
    },
    "colab_type": "code",
    "executionInfo": {
     "elapsed": 20337,
     "status": "ok",
     "timestamp": 1573029625659,
     "user": {
      "displayName": "Manuel Sánchez-Montañés",
      "photoUrl": "",
      "userId": "17112108692206476645"
     },
     "user_tz": -60
    },
    "id": "rlkA3Uhi5lZu",
    "outputId": "d8537ff1-55b4-4d46-877d-5a7a277344c3"
   },
   "outputs": [],
   "source": [
    "n_clases = len(np.unique(y))\n",
    "np.unique(y)"
   ]
  },
  {
   "cell_type": "code",
   "execution_count": null,
   "metadata": {
    "colab": {
     "base_uri": "https://localhost:8080/",
     "height": 122
    },
    "colab_type": "code",
    "executionInfo": {
     "elapsed": 20804,
     "status": "ok",
     "timestamp": 1573029626157,
     "user": {
      "displayName": "Manuel Sánchez-Montañés",
      "photoUrl": "",
      "userId": "17112108692206476645"
     },
     "user_tz": -60
    },
    "id": "i4XLhhEG5lZ_",
    "outputId": "d993b23b-0c70-418a-a20d-f9ed48fb9715"
   },
   "outputs": [],
   "source": [
    "from sklearn.model_selection import train_test_split\n",
    "\n",
    "X_train, X_test, y_train, y_test = train_test_split(X, y, test_size=0.25,\n",
    "                                                    random_state=1)\n",
    "\n",
    "print(X_train.shape)\n",
    "print(y_train.shape)\n",
    "print(X_test.shape)\n",
    "print(y_test.shape)\n",
    "\n",
    "X.min(), X.max()"
   ]
  },
  {
   "cell_type": "code",
   "execution_count": null,
   "metadata": {
    "colab": {
     "base_uri": "https://localhost:8080/",
     "height": 1000
    },
    "colab_type": "code",
    "executionInfo": {
     "elapsed": 21668,
     "status": "ok",
     "timestamp": 1573029627031,
     "user": {
      "displayName": "Manuel Sánchez-Montañés",
      "photoUrl": "",
      "userId": "17112108692206476645"
     },
     "user_tz": -60
    },
    "id": "y49O1lHj5laD",
    "outputId": "bc0f2b8b-4564-4e79-c2b1-6bd28bdbfdb1"
   },
   "outputs": [],
   "source": [
    "plt.figure(figsize=(7,7))\n",
    "primero = 5000\n",
    "for i in range(16):\n",
    "    plt.subplot(4,4,i+1)\n",
    "    plt.imshow(X_train[primero+i].reshape(28, 28), cmap=plt.cm.gray)\n",
    "    plt.title(\"y={}\".format(y_train[primero+i]))\n",
    "    plt.xticks([])\n",
    "    plt.yticks([])"
   ]
  },
  {
   "cell_type": "markdown",
   "metadata": {
    "colab_type": "text",
    "id": "ebD8M0fJ5laJ"
   },
   "source": [
    "## 3.2. Construcción del modelo"
   ]
  },
  {
   "cell_type": "markdown",
   "metadata": {},
   "source": [
    "### 3.2.1. Árbol de decisión"
   ]
  },
  {
   "cell_type": "code",
   "execution_count": null,
   "metadata": {},
   "outputs": [],
   "source": [
    "from sklearn.tree import DecisionTreeClassifier"
   ]
  },
  {
   "cell_type": "code",
   "execution_count": null,
   "metadata": {},
   "outputs": [],
   "source": [
    "# Rellena esta casilla con código para crear y entrenar\n",
    "# un objeto de nombre DT y clase DecisionTreeClassifier\n",
    "# La profundidad máxima deberá ser ajustada en 7\n",
    "\n"
   ]
  },
  {
   "cell_type": "markdown",
   "metadata": {},
   "source": [
    "Calcula en la siguiente casilla los scores en training y test."
   ]
  },
  {
   "cell_type": "code",
   "execution_count": null,
   "metadata": {},
   "outputs": [],
   "source": []
  },
  {
   "cell_type": "markdown",
   "metadata": {},
   "source": [
    "Calcula en la siguiente casilla la matriz de confusión en test. ¿Qué dígitos confunde más?"
   ]
  },
  {
   "cell_type": "code",
   "execution_count": null,
   "metadata": {},
   "outputs": [],
   "source": []
  },
  {
   "cell_type": "markdown",
   "metadata": {},
   "source": [
    "### 3.2.2. Regresión Logística"
   ]
  },
  {
   "cell_type": "code",
   "execution_count": null,
   "metadata": {},
   "outputs": [],
   "source": [
    "from sklearn.linear_model import LogisticRegression\n",
    "\n",
    "# Rellena esta casilla con código para crear y entrenar\n",
    "# un objeto de nombre LR y clase LogisticRegression\n",
    "\n"
   ]
  },
  {
   "cell_type": "markdown",
   "metadata": {},
   "source": [
    "Calcula en la siguiente casilla los scores en training y test."
   ]
  },
  {
   "cell_type": "code",
   "execution_count": null,
   "metadata": {},
   "outputs": [],
   "source": []
  },
  {
   "cell_type": "markdown",
   "metadata": {},
   "source": [
    "Calcula en la siguiente casilla la matriz de confusión en test. ¿Qué dígitos confunde más?"
   ]
  },
  {
   "cell_type": "code",
   "execution_count": null,
   "metadata": {},
   "outputs": [],
   "source": []
  },
  {
   "cell_type": "code",
   "execution_count": null,
   "metadata": {},
   "outputs": [],
   "source": [
    "LR.classes_"
   ]
  },
  {
   "cell_type": "code",
   "execution_count": null,
   "metadata": {},
   "outputs": [],
   "source": [
    "LR.coef_.shape"
   ]
  },
  {
   "cell_type": "markdown",
   "metadata": {},
   "source": [
    "A continuación se representan gráficamente los pesos aprendidos.\n",
    "\n",
    "¿Puedes decir algo acerca de qué ha aprendido a identificar la regresión logística en las imágenes?"
   ]
  },
  {
   "cell_type": "code",
   "execution_count": null,
   "metadata": {},
   "outputs": [],
   "source": [
    "# Representación gráfica de los coeficientes de la regresión logística\n",
    "\n",
    "min_wij = LR.coef_.min()\n",
    "max_wij = LR.coef_.max()\n",
    "\n",
    "c = max([abs(min_wij), abs(max_wij)]) # factor de escala para visualización\n",
    "\n",
    "plt.figure(figsize=(20,5))\n",
    "for i in range(10):\n",
    "    plt.subplot(1,10,i+1)\n",
    "    # pesos capa de entrada -> neurona i de la capa oculta\n",
    "    coefs = LR.coef_[i]\n",
    "    # los representamos gráficamente en una escala azul-blanco-rojo donde\n",
    "    # rojo=positivo, azul=negativo y blanco=0\n",
    "    plt.imshow(coefs.reshape(28, 28), cmap=plt.cm.bwr, vmin=-.5*c, vmax=.5*c)\n",
    "    # plt.colorbar()  # si quisiésemos ver los códigos de color\n",
    "    plt.title(\"Clase {}\".format(LR.classes_[i]), fontsize=16)\n",
    "    plt.xticks([])\n",
    "    plt.yticks([])"
   ]
  },
  {
   "cell_type": "markdown",
   "metadata": {},
   "source": [
    "¿Cuántos parámetros ajusta en total el fit de la regresión logística, de acuerdo a sus campos **coef_** e **intercept_**? Calcula este número a mano y confirma que te da la misma cantidad."
   ]
  },
  {
   "cell_type": "code",
   "execution_count": null,
   "metadata": {},
   "outputs": [],
   "source": []
  },
  {
   "cell_type": "markdown",
   "metadata": {},
   "source": [
    "### 3.2.3. Red neuronal"
   ]
  },
  {
   "cell_type": "code",
   "execution_count": null,
   "metadata": {
    "colab": {},
    "colab_type": "code",
    "id": "5lPZUg_x2Brd"
   },
   "outputs": [],
   "source": [
    "from sklearn.neural_network import MLPClassifier"
   ]
  },
  {
   "cell_type": "code",
   "execution_count": null,
   "metadata": {
    "colab": {},
    "colab_type": "code",
    "id": "umOAbAZA5laK"
   },
   "outputs": [],
   "source": [
    "# Rellena esta casilla con código para crear y entrenar\n",
    "# un objeto de nombre MLP y clase MLPClassifier\n",
    "# El número de capas ocultas será 1, y el número de neuronas\n",
    "# ocultas deberá ajustarse dentro del rango [1,100]\n",
    "\n"
   ]
  },
  {
   "cell_type": "markdown",
   "metadata": {},
   "source": [
    "Calcula en la siguiente casilla los scores en training y test."
   ]
  },
  {
   "cell_type": "code",
   "execution_count": null,
   "metadata": {},
   "outputs": [],
   "source": []
  },
  {
   "cell_type": "markdown",
   "metadata": {},
   "source": [
    "Calcula en la siguiente casilla la matriz de confusión en test. ¿Qué dígitos confunde más?"
   ]
  },
  {
   "cell_type": "code",
   "execution_count": null,
   "metadata": {},
   "outputs": [],
   "source": []
  },
  {
   "cell_type": "markdown",
   "metadata": {},
   "source": [
    "- Dibuja la evolución del loss en entrenamiento en función del número de épocas.\n",
    "\n",
    "- ¿Tiene una forma consistente con lo que uno se esperaría en teoría?\n",
    "\n",
    "- Según la forma de la curva, ¿ha convergido el aprendizaje del modelo?"
   ]
  },
  {
   "cell_type": "code",
   "execution_count": null,
   "metadata": {},
   "outputs": [],
   "source": []
  },
  {
   "cell_type": "markdown",
   "metadata": {},
   "source": [
    "¿Cuántos parámetros ajusta en total el fit de la red neuronal, de acuerdo a sus campos **coefs_** e **intercepts_**? Calcula este número a mano y confirma que te da la misma cantidad."
   ]
  },
  {
   "cell_type": "code",
   "execution_count": null,
   "metadata": {},
   "outputs": [],
   "source": []
  },
  {
   "cell_type": "markdown",
   "metadata": {
    "colab_type": "text",
    "id": "gnQf_lAS5laa"
   },
   "source": [
    "### Análisis gráfico de los pesos de la conexión capa entrada -> capa oculta\n",
    "\n",
    "A continuación se representan gráficamente los pesos aprendidos. ¿Puedes decir algo acerca de lo que están aprendiendo las neuronas de la capa oculta?"
   ]
  },
  {
   "cell_type": "code",
   "execution_count": null,
   "metadata": {
    "colab": {
     "base_uri": "https://localhost:8080/",
     "height": 987
    },
    "colab_type": "code",
    "executionInfo": {
     "elapsed": 61488,
     "status": "ok",
     "timestamp": 1573029667005,
     "user": {
      "displayName": "Manuel Sánchez-Montañés",
      "photoUrl": "",
      "userId": "17112108692206476645"
     },
     "user_tz": -60
    },
    "id": "nz0fKZkS5lbO",
    "outputId": "9dc12afb-de05-4e91-b11b-e630c3844331"
   },
   "outputs": [],
   "source": [
    "min_wij = MLP.coefs_[0].min()\n",
    "max_wij = MLP.coefs_[0].max()\n",
    "\n",
    "c = max([abs(min_wij), abs(max_wij)]) # factor de escala para visualización\n",
    "\n",
    "ncols = 7 # número de columnas en la figura\n",
    "nrows = int(np.ceil(n_hidden/ncols)) # número de filas en la figura\n",
    "plt.figure(figsize=(15,15*nrows/ncols))\n",
    "for i in range(n_hidden):\n",
    "    plt.subplot(nrows, ncols, i+1)\n",
    "    # pesos capa de entrada -> neurona i de la capa oculta\n",
    "    coefs = MLP.coefs_[0][:,i]\n",
    "    # los representamos gráficamente en una escala azul-blanco-rojo donde\n",
    "    # rojo=positivo, azul=negativo y blanco=0\n",
    "    plt.imshow(coefs.reshape(28, 28), cmap=plt.cm.bwr, vmin=-.5*c, vmax=.5*c)\n",
    "    # plt.colorbar()  # si quisiésemos ver los códigos de color\n",
    "    plt.title(\"neurona {}\".format(i))\n",
    "    plt.xticks([])\n",
    "    plt.yticks([])"
   ]
  },
  {
   "cell_type": "markdown",
   "metadata": {},
   "source": [
    "## 3.3. Conclusiones"
   ]
  },
  {
   "cell_type": "markdown",
   "metadata": {},
   "source": [
    "De los modelos que has construido, ¿cuál es el mejor? ¿por qué?"
   ]
  },
  {
   "cell_type": "code",
   "execution_count": null,
   "metadata": {
    "colab": {},
    "colab_type": "code",
    "id": "FGwS3V5q5lbS"
   },
   "outputs": [],
   "source": []
  }
 ],
 "metadata": {
  "colab": {
   "collapsed_sections": [],
   "name": "01-nn_mnist_clasificacion_ML.ipynb",
   "provenance": []
  },
  "kernelspec": {
   "display_name": "Python 3",
   "language": "python",
   "name": "python3"
  },
  "language_info": {
   "codemirror_mode": {
    "name": "ipython",
    "version": 3
   },
   "file_extension": ".py",
   "mimetype": "text/x-python",
   "name": "python",
   "nbconvert_exporter": "python",
   "pygments_lexer": "ipython3",
   "version": "3.8.5"
  }
 },
 "nbformat": 4,
 "nbformat_minor": 1
}
